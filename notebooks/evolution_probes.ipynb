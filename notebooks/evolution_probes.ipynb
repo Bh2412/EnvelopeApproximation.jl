{
 "cells": [
  {
   "cell_type": "code",
   "execution_count": 1,
   "metadata": {},
   "outputs": [
    {
     "data": {
      "text/plain": [
       "EnvelopeApproximation"
      ]
     },
     "metadata": {},
     "output_type": "display_data"
    }
   ],
   "source": [
    "using EnvelopeApproximation\n",
    "using EnvelopeApproximation.BubbleBasics\n",
    "using EnvelopeApproximation.BubblesEvolution\n",
    "using StableRNGs\n",
    "using Base.Iterators\n",
    "using Measurements\n",
    "using JLD2\n",
    "using Plots\n",
    "using EnvelopeApproximation.Visualization\n",
    "import EnvelopeApproximation.BubblesEvolution.sample\n",
    "ENV[\"JULIA_DEBUG\"] = EnvelopeApproximation"
   ]
  },
  {
   "cell_type": "code",
   "execution_count": 2,
   "metadata": {},
   "outputs": [
    {
     "data": {
      "text/plain": [
       "BallSpace(1.0, Point3([0.0, 0.0, 0.0]))"
      ]
     },
     "metadata": {},
     "output_type": "display_data"
    }
   ],
   "source": [
    "β = 1.\n",
    "Δt = β / 100\n",
    "eg = ExponentialGrowth(β, Δt, Γ_0 = 1.)\n",
    "bs = BallSpace(1., Point3(0., 0., 0.))"
   ]
  },
  {
   "cell_type": "code",
   "execution_count": 3,
   "metadata": {},
   "outputs": [
    {
     "data": {
      "text/plain": [
       "ts (generic function with 1 method)"
      ]
     },
     "metadata": {},
     "output_type": "display_data"
    }
   ],
   "source": [
    "N = 100\n",
    "η = 0.8\n",
    "rng = StableRNG(1)\n",
    "function ts(state, space, _):: Bool\n",
    "    ps = sample(rng, N, space)\n",
    "    cbs = current_bubbles(state)\n",
    "    length(cbs) == 0. && return false\n",
    "    inside = sum([p ∈ cbs for p in ps])\n",
    "    return inside / N ≥ η \n",
    "end"
   ]
  },
  {
   "cell_type": "markdown",
   "metadata": {},
   "source": [
    "# Dependence on $\\Delta t$"
   ]
  },
  {
   "cell_type": "code",
   "execution_count": 4,
   "metadata": {},
   "outputs": [],
   "source": [
    "Δts = 10 .^ (range(-3., 0., 20))\n",
    "egs = ExponentialGrowth.(β, Δts, Γ_0 = 1.) \n",
    "rngs = StableRNG.(1:30);"
   ]
  },
  {
   "cell_type": "code",
   "execution_count": 5,
   "metadata": {},
   "outputs": [
    {
     "data": {
      "text/plain": [
       "_evolve (generic function with 2 methods)"
      ]
     },
     "metadata": {},
     "output_type": "display_data"
    }
   ],
   "source": [
    "_evolve(eg, rng) = evolve(eg, bs, termination_strategy=ts, rng=rng)\n",
    "_evolve(t:: Tuple) = _evolve(t...)"
   ]
  },
  {
   "cell_type": "code",
   "execution_count": 6,
   "metadata": {},
   "outputs": [
    {
     "name": "stderr",
     "output_type": "stream",
     "text": [
      "┌ Info: Initiating PT of BubblesSnapShot(@NamedTuple{time::Float64, site::Point3}[], 0.0, EnvelopeApproximation.BubblesEvolution.speed_of_light_profile)\n",
      "└ @ EnvelopeApproximation.BubblesEvolution /home/ben/.julia/dev/EnvelopeApproximation/src/BubblesEvolution.jl:116\n",
      "┌ Debug: A total of 0 nucleations was sampled in accordance with the expected mean of 0.0010005001667083846\n",
      "└ @ EnvelopeApproximation.BubblesEvolution /home/ben/.julia/dev/EnvelopeApproximation/src/BubblesEvolution.jl:94\n"
     ]
    },
    {
     "ename": "MethodError",
     "evalue": "MethodError: no method matching +(::Point3, ::Vector{StaticArraysCore.SVector{3, Float64}})\nThe function `+` exists, but no method is defined for this combination of argument types.\n\nClosest candidates are:\n  +(::Any, ::Any, !Matched::Any, !Matched::Any...)\n   @ Base operators.jl:596\n  +(!Matched::ChainRulesCore.NotImplemented, ::Any)\n   @ ChainRulesCore ~/.julia/packages/ChainRulesCore/6Pucz/src/tangent_arithmetic.jl:24\n  +(::Any, !Matched::ChainRulesCore.ZeroTangent)\n   @ ChainRulesCore ~/.julia/packages/ChainRulesCore/6Pucz/src/tangent_arithmetic.jl:100\n  ...\n",
     "output_type": "error",
     "traceback": [
      "MethodError: no method matching +(::Point3, ::Vector{StaticArraysCore.SVector{3, Float64}})\n",
      "The function `+` exists, but no method is defined for this combination of argument types.\n",
      "\n",
      "Closest candidates are:\n",
      "  +(::Any, ::Any, !Matched::Any, !Matched::Any...)\n",
      "   @ Base operators.jl:596\n",
      "  +(!Matched::ChainRulesCore.NotImplemented, ::Any)\n",
      "   @ ChainRulesCore ~/.julia/packages/ChainRulesCore/6Pucz/src/tangent_arithmetic.jl:24\n",
      "  +(::Any, !Matched::ChainRulesCore.ZeroTangent)\n",
      "   @ ChainRulesCore ~/.julia/packages/ChainRulesCore/6Pucz/src/tangent_arithmetic.jl:100\n",
      "  ...\n",
      "\n",
      "\n",
      "Stacktrace:\n",
      "  [1] sample(rng::StableRNGs.LehmerRNG, n::Int64, space::BallSpace)\n",
      "    @ EnvelopeApproximation.BubblesEvolution ~/.julia/dev/EnvelopeApproximation/src/BubblesEvolution.jl:80\n",
      "  [2] sample_nucleations(Δt::Float64, mean_nucleations::Float64, space::BallSpace, existing_bubbles::Bubbles, t0::Float64, rng::StableRNGs.LehmerRNG)\n",
      "    @ EnvelopeApproximation.BubblesEvolution ~/.julia/dev/EnvelopeApproximation/src/BubblesEvolution.jl:95\n",
      "  [3] evolve(nucleation_law::ExponentialGrowth, space::BallSpace; initial_state::BubblesSnapShot, rng::StableRNGs.LehmerRNG, termination_strategy::typeof(ts))\n",
      "    @ EnvelopeApproximation.BubblesEvolution ~/.julia/dev/EnvelopeApproximation/src/BubblesEvolution.jl:119\n",
      "  [4] _evolve(eg::ExponentialGrowth, rng::StableRNGs.LehmerRNG)\n",
      "    @ Main ~/.julia/dev/EnvelopeApproximation/notebooks/jl_notebook_cell_df34fa98e69747e1a8f8a730347b8e2f_W5sZmlsZQ==.jl:1\n",
      "  [5] _evolve\n",
      "    @ ~/.julia/dev/EnvelopeApproximation/notebooks/jl_notebook_cell_df34fa98e69747e1a8f8a730347b8e2f_W5sZmlsZQ==.jl:2 [inlined]\n",
      "  [6] _broadcast_getindex_evalf\n",
      "    @ ./broadcast.jl:673 [inlined]\n",
      "  [7] _broadcast_getindex\n",
      "    @ ./broadcast.jl:646 [inlined]\n",
      "  [8] getindex\n",
      "    @ ./broadcast.jl:605 [inlined]\n",
      "  [9] macro expansion\n",
      "    @ ./broadcast.jl:968 [inlined]\n",
      " [10] macro expansion\n",
      "    @ ./simdloop.jl:77 [inlined]\n",
      " [11] copyto!\n",
      "    @ ./broadcast.jl:967 [inlined]\n",
      " [12] copyto!\n",
      "    @ ./broadcast.jl:920 [inlined]\n",
      " [13] copy\n",
      "    @ ./broadcast.jl:892 [inlined]\n",
      " [14] materialize(bc::Base.Broadcast.Broadcasted{Base.Broadcast.DefaultArrayStyle{2}, Nothing, typeof(_evolve), Tuple{Matrix{Tuple{ExponentialGrowth, StableRNGs.LehmerRNG}}}})\n",
      "    @ Base.Broadcast ./broadcast.jl:867\n",
      " [15] top-level scope\n",
      "    @ ~/.julia/dev/EnvelopeApproximation/notebooks/jl_notebook_cell_df34fa98e69747e1a8f8a730347b8e2f_W6sZmlsZQ==.jl:1"
     ]
    }
   ],
   "source": [
    "evolves = _evolve.(product(egs, rngs))"
   ]
  },
  {
   "cell_type": "markdown",
   "metadata": {},
   "source": [
    "## Mean number of nucleations"
   ]
  },
  {
   "cell_type": "code",
   "execution_count": 7,
   "metadata": {},
   "outputs": [
    {
     "data": {
      "text/plain": [
       "mean_nucleations (generic function with 1 method)"
      ]
     },
     "metadata": {},
     "output_type": "display_data"
    }
   ],
   "source": [
    "mean(x) = sum(x) / length(x)\n",
    "std(x) = sqrt(sum(x .^ 2) .- mean(x) ^ 2) / (sqrt(length(x) * (length(x) - 1)))\n",
    "average(x) = mean(x) ± std(x) \n",
    "mean_nucleations(x) = average((z -> length(z.nucleations)).(x))"
   ]
  },
  {
   "cell_type": "code",
   "execution_count": 8,
   "metadata": {},
   "outputs": [
    {
     "ename": "UndefVarError",
     "evalue": "UndefVarError: `evolves` not defined in `Main`\nSuggestion: check for spelling errors or missing imports.",
     "output_type": "error",
     "traceback": [
      "UndefVarError: `evolves` not defined in `Main`\n",
      "Suggestion: check for spelling errors or missing imports.\n",
      "\n",
      "Stacktrace:\n",
      " [1] top-level scope\n",
      "   @ ~/.julia/dev/EnvelopeApproximation/notebooks/jl_notebook_cell_df34fa98e69747e1a8f8a730347b8e2f_X12sZmlsZQ==.jl:1"
     ]
    }
   ],
   "source": [
    "nucs = mean_nucleations.(eachrow(evolves))"
   ]
  },
  {
   "cell_type": "code",
   "execution_count": 9,
   "metadata": {},
   "outputs": [
    {
     "ename": "UndefVarError",
     "evalue": "UndefVarError: `scatter` not defined in `Main`\nSuggestion: check for spelling errors or missing imports.\nHint: a global variable of this name may be made accessible by importing MakieCore in the current active module Main\nHint: a global variable of this name may be made accessible by importing Makie in the current active module Main\nHint: a global variable of this name may be made accessible by importing GLMakie in the current active module Main",
     "output_type": "error",
     "traceback": [
      "UndefVarError: `scatter` not defined in `Main`\n",
      "Suggestion: check for spelling errors or missing imports.\n",
      "Hint: a global variable of this name may be made accessible by importing MakieCore in the current active module Main\n",
      "Hint: a global variable of this name may be made accessible by importing Makie in the current active module Main\n",
      "Hint: a global variable of this name may be made accessible by importing GLMakie in the current active module Main\n",
      "\n",
      "Stacktrace:\n",
      " [1] top-level scope\n",
      "   @ ~/.julia/dev/EnvelopeApproximation/notebooks/jl_notebook_cell_df34fa98e69747e1a8f8a730347b8e2f_X13sZmlsZQ==.jl:3"
     ]
    }
   ],
   "source": [
    "custom_xticks = 10. .^(-3, -2, -1, 0)\n",
    "custom_xticks_strs = [\"$f\" for f in custom_xticks]\n",
    "scatter(Δts, nucs, xscale=:log10, xticks=(custom_xticks, custom_xticks_strs), xlabel=\"Δt [β]\", ylabel=\"N\")"
   ]
  },
  {
   "cell_type": "markdown",
   "metadata": {},
   "source": [
    "## Mean PT time"
   ]
  },
  {
   "cell_type": "code",
   "execution_count": 10,
   "metadata": {},
   "outputs": [
    {
     "data": {
      "text/plain": [
       "pt_time (generic function with 1 method)"
      ]
     },
     "metadata": {},
     "output_type": "display_data"
    }
   ],
   "source": [
    "pt_time(x) = average((z -> z.t).(x))"
   ]
  },
  {
   "cell_type": "code",
   "execution_count": 11,
   "metadata": {},
   "outputs": [
    {
     "ename": "UndefVarError",
     "evalue": "UndefVarError: `evolves` not defined in `Main`\nSuggestion: check for spelling errors or missing imports.",
     "output_type": "error",
     "traceback": [
      "UndefVarError: `evolves` not defined in `Main`\n",
      "Suggestion: check for spelling errors or missing imports.\n",
      "\n",
      "Stacktrace:\n",
      " [1] top-level scope\n",
      "   @ ~/.julia/dev/EnvelopeApproximation/notebooks/jl_notebook_cell_df34fa98e69747e1a8f8a730347b8e2f_X16sZmlsZQ==.jl:1"
     ]
    }
   ],
   "source": [
    "pt_times = pt_time.(eachrow(evolves))"
   ]
  },
  {
   "cell_type": "code",
   "execution_count": 12,
   "metadata": {},
   "outputs": [
    {
     "ename": "UndefVarError",
     "evalue": "UndefVarError: `scatter` not defined in `Main`\nSuggestion: check for spelling errors or missing imports.\nHint: a global variable of this name may be made accessible by importing MakieCore in the current active module Main\nHint: a global variable of this name may be made accessible by importing Makie in the current active module Main\nHint: a global variable of this name may be made accessible by importing GLMakie in the current active module Main",
     "output_type": "error",
     "traceback": [
      "UndefVarError: `scatter` not defined in `Main`\n",
      "Suggestion: check for spelling errors or missing imports.\n",
      "Hint: a global variable of this name may be made accessible by importing MakieCore in the current active module Main\n",
      "Hint: a global variable of this name may be made accessible by importing Makie in the current active module Main\n",
      "Hint: a global variable of this name may be made accessible by importing GLMakie in the current active module Main\n",
      "\n",
      "Stacktrace:\n",
      " [1] top-level scope\n",
      "   @ ~/.julia/dev/EnvelopeApproximation/notebooks/jl_notebook_cell_df34fa98e69747e1a8f8a730347b8e2f_X20sZmlsZQ==.jl:1"
     ]
    }
   ],
   "source": [
    "scatter(Δts, pt_times, xscale=:log10, xticks=(custom_xticks, custom_xticks_strs), xlabel=\"Δt [β]\", ylabel=\"T [β]\")"
   ]
  },
  {
   "cell_type": "markdown",
   "metadata": {},
   "source": [
    "# Study dependence on Space Size"
   ]
  },
  {
   "cell_type": "code",
   "execution_count": 13,
   "metadata": {},
   "outputs": [
    {
     "data": {
      "text/plain": [
       "1.0:1.0:10.0"
      ]
     },
     "metadata": {},
     "output_type": "display_data"
    }
   ],
   "source": [
    "radii = range(1., 10., 10)"
   ]
  },
  {
   "cell_type": "code",
   "execution_count": 14,
   "metadata": {},
   "outputs": [
    {
     "data": {
      "text/plain": [
       "10.0"
      ]
     },
     "metadata": {},
     "output_type": "display_data"
    }
   ],
   "source": [
    "max_R = radii[end]"
   ]
  },
  {
   "cell_type": "code",
   "execution_count": 15,
   "metadata": {},
   "outputs": [
    {
     "data": {
      "text/plain": [
       "_evolve (generic function with 3 methods)"
      ]
     },
     "metadata": {},
     "output_type": "display_data"
    }
   ],
   "source": [
    "function _evolve(radius:: Float64, rng)\n",
    "    eg = ExponentialGrowth(β, Δt, Γ_0 = (4π/3) * (radius / max_R) ^3)\n",
    "    bs = BallSpace(radius, Point3(0., 0., 0.))\n",
    "    return evolve(eg, bs, termination_strategy=ts, rng=rng)\n",
    "end\n",
    "\n",
    "_evolve(t:: Tuple) = _evolve(t...)"
   ]
  },
  {
   "cell_type": "code",
   "execution_count": 16,
   "metadata": {},
   "outputs": [
    {
     "ename": "UndefVarError",
     "evalue": "UndefVarError: `product` not defined in `Main`\nSuggestion: check for spelling errors or missing imports.\nHint: a global variable of this name may be made accessible by importing IterTools in the current active module Main",
     "output_type": "error",
     "traceback": [
      "UndefVarError: `product` not defined in `Main`\n",
      "Suggestion: check for spelling errors or missing imports.\n",
      "Hint: a global variable of this name may be made accessible by importing IterTools in the current active module Main\n",
      "\n",
      "Stacktrace:\n",
      " [1] top-level scope\n",
      "   @ ~/.julia/dev/EnvelopeApproximation/notebooks/jl_notebook_cell_df34fa98e69747e1a8f8a730347b8e2f_X25sZmlsZQ==.jl:1"
     ]
    }
   ],
   "source": [
    "evolves = _evolve.(product(radii, rngs))"
   ]
  },
  {
   "cell_type": "code",
   "execution_count": 17,
   "metadata": {},
   "outputs": [
    {
     "ename": "UndefVarError",
     "evalue": "UndefVarError: `BubblesIntegration` not defined in `EnvelopeApproximation`\nSuggestion: check for spelling errors or missing imports.",
     "output_type": "error",
     "traceback": [
      "UndefVarError: `BubblesIntegration` not defined in `EnvelopeApproximation`\n",
      "Suggestion: check for spelling errors or missing imports.\n",
      "\n",
      "Stacktrace:\n",
      "  [1] eval\n",
      "    @ ./boot.jl:430 [inlined]\n",
      "  [2] include_string(mapexpr::typeof(REPL.softscope), mod::Module, code::String, filename::String)\n",
      "    @ Base ./loading.jl:2734\n",
      "  [3] #invokelatest#2\n",
      "    @ ./essentials.jl:1055 [inlined]\n",
      "  [4] invokelatest\n",
      "    @ ./essentials.jl:1052 [inlined]\n",
      "  [5] (::VSCodeServer.var\"#217#218\"{VSCodeServer.NotebookRunCellArguments, String})()\n",
      "    @ VSCodeServer ~/.vscode/extensions/julialang.language-julia-1.127.2/scripts/packages/VSCodeServer/src/serve_notebook.jl:24\n",
      "  [6] withpath(f::VSCodeServer.var\"#217#218\"{VSCodeServer.NotebookRunCellArguments, String}, path::String)\n",
      "    @ VSCodeServer ~/.vscode/extensions/julialang.language-julia-1.127.2/scripts/packages/VSCodeServer/src/repl.jl:276\n",
      "  [7] notebook_runcell_request(conn::VSCodeServer.JSONRPC.JSONRPCEndpoint{Base.PipeEndpoint, Base.PipeEndpoint}, params::VSCodeServer.NotebookRunCellArguments)\n",
      "    @ VSCodeServer ~/.vscode/extensions/julialang.language-julia-1.127.2/scripts/packages/VSCodeServer/src/serve_notebook.jl:13\n",
      "  [8] dispatch_msg(x::VSCodeServer.JSONRPC.JSONRPCEndpoint{Base.PipeEndpoint, Base.PipeEndpoint}, dispatcher::VSCodeServer.JSONRPC.MsgDispatcher, msg::Dict{String, Any})\n",
      "    @ VSCodeServer.JSONRPC ~/.vscode/extensions/julialang.language-julia-1.127.2/scripts/packages/JSONRPC/src/typed.jl:67\n",
      "  [9] serve_notebook(pipename::String, debugger_pipename::String, outputchannel_logger::Base.CoreLogging.SimpleLogger; error_handler::var\"#5#10\"{String})\n",
      "    @ VSCodeServer ~/.vscode/extensions/julialang.language-julia-1.127.2/scripts/packages/VSCodeServer/src/serve_notebook.jl:147\n",
      " [10] top-level scope\n",
      "    @ ~/.vscode/extensions/julialang.language-julia-1.127.2/scripts/notebook/notebook.jl:35"
     ]
    }
   ],
   "source": [
    "using EnvelopeApproximation.BubblesIntegration"
   ]
  },
  {
   "cell_type": "code",
   "execution_count": 18,
   "metadata": {},
   "outputs": [
    {
     "ename": "UndefVarError",
     "evalue": "UndefVarError: `viz` not defined in `Main`\nSuggestion: check for spelling errors or missing imports.\nHint: a global variable of this name may be made accessible by importing Meshes in the current active module Main\nHint: a global variable of this name may be made accessible by importing MeshesMakieExt in the current active module Main",
     "output_type": "error",
     "traceback": [
      "UndefVarError: `viz` not defined in `Main`\n",
      "Suggestion: check for spelling errors or missing imports.\n",
      "Hint: a global variable of this name may be made accessible by importing Meshes in the current active module Main\n",
      "Hint: a global variable of this name may be made accessible by importing MeshesMakieExt in the current active module Main\n",
      "\n",
      "Stacktrace:\n",
      " [1] top-level scope\n",
      "   @ ~/.julia/dev/EnvelopeApproximation/notebooks/jl_notebook_cell_df34fa98e69747e1a8f8a730347b8e2f_X30sZmlsZQ==.jl:1"
     ]
    }
   ],
   "source": [
    "viz(evolves[10, 1])"
   ]
  },
  {
   "cell_type": "code",
   "execution_count": 19,
   "metadata": {},
   "outputs": [
    {
     "data": {
      "text/plain": [
       "4188.790204786391"
      ]
     },
     "metadata": {},
     "output_type": "display_data"
    }
   ],
   "source": [
    "total_vol = (4π / 3) * radii[10] ^ 3"
   ]
  },
  {
   "cell_type": "code",
   "execution_count": 20,
   "metadata": {},
   "outputs": [
    {
     "ename": "UndefVarError",
     "evalue": "UndefVarError: `volume_integral` not defined in `Main`\nSuggestion: check for spelling errors or missing imports.",
     "output_type": "error",
     "traceback": [
      "UndefVarError: `volume_integral` not defined in `Main`\n",
      "Suggestion: check for spelling errors or missing imports.\n",
      "\n",
      "Stacktrace:\n",
      " [1] top-level scope\n",
      "   @ ~/.julia/dev/EnvelopeApproximation/notebooks/jl_notebook_cell_df34fa98e69747e1a8f8a730347b8e2f_X32sZmlsZQ==.jl:1"
     ]
    }
   ],
   "source": [
    "vol = volume_integral(x -> 1., current_bubbles(evolves[10, 7]), 1. / (3 * 10), (2π / 10.), (2. / 10))"
   ]
  },
  {
   "cell_type": "code",
   "execution_count": 21,
   "metadata": {},
   "outputs": [
    {
     "ename": "UndefVarError",
     "evalue": "UndefVarError: `vol` not defined in `Main`\nSuggestion: check for spelling errors or missing imports.",
     "output_type": "error",
     "traceback": [
      "UndefVarError: `vol` not defined in `Main`\n",
      "Suggestion: check for spelling errors or missing imports.\n",
      "\n",
      "Stacktrace:\n",
      " [1] top-level scope\n",
      "   @ ~/.julia/dev/EnvelopeApproximation/notebooks/jl_notebook_cell_df34fa98e69747e1a8f8a730347b8e2f_X33sZmlsZQ==.jl:1"
     ]
    }
   ],
   "source": [
    "vol / total_vol"
   ]
  },
  {
   "cell_type": "markdown",
   "metadata": {},
   "source": [
    "## Nucleations num"
   ]
  },
  {
   "cell_type": "code",
   "execution_count": 22,
   "metadata": {},
   "outputs": [
    {
     "ename": "UndefVarError",
     "evalue": "UndefVarError: `evolves` not defined in `Main`\nSuggestion: check for spelling errors or missing imports.",
     "output_type": "error",
     "traceback": [
      "UndefVarError: `evolves` not defined in `Main`\n",
      "Suggestion: check for spelling errors or missing imports.\n",
      "\n",
      "Stacktrace:\n",
      " [1] top-level scope\n",
      "   @ ~/.julia/dev/EnvelopeApproximation/notebooks/jl_notebook_cell_df34fa98e69747e1a8f8a730347b8e2f_X35sZmlsZQ==.jl:1"
     ]
    }
   ],
   "source": [
    "nucs = mean_nucleations.(eachrow(evolves))"
   ]
  },
  {
   "cell_type": "code",
   "execution_count": 23,
   "metadata": {},
   "outputs": [
    {
     "ename": "UndefVarError",
     "evalue": "UndefVarError: `nucs` not defined in `Main`\nSuggestion: check for spelling errors or missing imports.",
     "output_type": "error",
     "traceback": [
      "UndefVarError: `nucs` not defined in `Main`\n",
      "Suggestion: check for spelling errors or missing imports.\n"
     ]
    }
   ],
   "source": [
    "nucs"
   ]
  },
  {
   "cell_type": "code",
   "execution_count": 24,
   "metadata": {},
   "outputs": [
    {
     "ename": "UndefVarError",
     "evalue": "UndefVarError: `scatter` not defined in `Main`\nSuggestion: check for spelling errors or missing imports.\nHint: a global variable of this name may be made accessible by importing MakieCore in the current active module Main\nHint: a global variable of this name may be made accessible by importing Makie in the current active module Main\nHint: a global variable of this name may be made accessible by importing GLMakie in the current active module Main",
     "output_type": "error",
     "traceback": [
      "UndefVarError: `scatter` not defined in `Main`\n",
      "Suggestion: check for spelling errors or missing imports.\n",
      "Hint: a global variable of this name may be made accessible by importing MakieCore in the current active module Main\n",
      "Hint: a global variable of this name may be made accessible by importing Makie in the current active module Main\n",
      "Hint: a global variable of this name may be made accessible by importing GLMakie in the current active module Main\n",
      "\n",
      "Stacktrace:\n",
      " [1] top-level scope\n",
      "   @ ~/.julia/dev/EnvelopeApproximation/notebooks/jl_notebook_cell_df34fa98e69747e1a8f8a730347b8e2f_X40sZmlsZQ==.jl:1"
     ]
    }
   ],
   "source": [
    "scatter(radii, nucs, xlabel=\"r [β]\", ylabel=\"N\")"
   ]
  },
  {
   "cell_type": "markdown",
   "metadata": {},
   "source": [
    "## Mean PT time"
   ]
  },
  {
   "cell_type": "code",
   "execution_count": 25,
   "metadata": {},
   "outputs": [
    {
     "data": {
      "text/plain": [
       "pt_time (generic function with 1 method)"
      ]
     },
     "metadata": {},
     "output_type": "display_data"
    }
   ],
   "source": [
    "pt_time(x) = average((z -> z.t).(x))"
   ]
  },
  {
   "cell_type": "code",
   "execution_count": 26,
   "metadata": {},
   "outputs": [
    {
     "ename": "UndefVarError",
     "evalue": "UndefVarError: `evolves` not defined in `Main`\nSuggestion: check for spelling errors or missing imports.",
     "output_type": "error",
     "traceback": [
      "UndefVarError: `evolves` not defined in `Main`\n",
      "Suggestion: check for spelling errors or missing imports.\n",
      "\n",
      "Stacktrace:\n",
      " [1] top-level scope\n",
      "   @ ~/.julia/dev/EnvelopeApproximation/notebooks/jl_notebook_cell_df34fa98e69747e1a8f8a730347b8e2f_X43sZmlsZQ==.jl:1"
     ]
    }
   ],
   "source": [
    "pt_times = pt_time.(eachrow(evolves))"
   ]
  },
  {
   "cell_type": "code",
   "execution_count": 27,
   "metadata": {},
   "outputs": [
    {
     "ename": "UndefVarError",
     "evalue": "UndefVarError: `scatter` not defined in `Main`\nSuggestion: check for spelling errors or missing imports.\nHint: a global variable of this name may be made accessible by importing MakieCore in the current active module Main\nHint: a global variable of this name may be made accessible by importing Makie in the current active module Main\nHint: a global variable of this name may be made accessible by importing GLMakie in the current active module Main",
     "output_type": "error",
     "traceback": [
      "UndefVarError: `scatter` not defined in `Main`\n",
      "Suggestion: check for spelling errors or missing imports.\n",
      "Hint: a global variable of this name may be made accessible by importing MakieCore in the current active module Main\n",
      "Hint: a global variable of this name may be made accessible by importing Makie in the current active module Main\n",
      "Hint: a global variable of this name may be made accessible by importing GLMakie in the current active module Main\n",
      "\n",
      "Stacktrace:\n",
      " [1] top-level scope\n",
      "   @ ~/.julia/dev/EnvelopeApproximation/notebooks/jl_notebook_cell_df34fa98e69747e1a8f8a730347b8e2f_X44sZmlsZQ==.jl:1"
     ]
    }
   ],
   "source": [
    "scatter(radii, pt_times)"
   ]
  },
  {
   "cell_type": "markdown",
   "metadata": {},
   "source": [
    "# Saving the Data"
   ]
  },
  {
   "cell_type": "code",
   "execution_count": 28,
   "metadata": {},
   "outputs": [
    {
     "ename": "UndefVarError",
     "evalue": "UndefVarError: `evolves` not defined in `Main`\nSuggestion: check for spelling errors or missing imports.",
     "output_type": "error",
     "traceback": [
      "UndefVarError: `evolves` not defined in `Main`\n",
      "Suggestion: check for spelling errors or missing imports.\n",
      "\n",
      "Stacktrace:\n",
      " [1] top-level scope\n",
      "   @ ~/.julia/dev/EnvelopeApproximation/notebooks/jl_notebook_cell_df34fa98e69747e1a8f8a730347b8e2f_X46sZmlsZQ==.jl:1"
     ]
    }
   ],
   "source": [
    "jldsave(\"evolution_ensemble.jld2\"; space_size=evolves)"
   ]
  }
 ],
 "metadata": {
  "kernelspec": {
   "display_name": "Julia 1.11.2",
   "language": "julia",
   "name": "julia-1.11"
  },
  "language_info": {
   "file_extension": ".jl",
   "mimetype": "application/julia",
   "name": "julia",
   "version": "1.11.2"
  }
 },
 "nbformat": 4,
 "nbformat_minor": 2
}
