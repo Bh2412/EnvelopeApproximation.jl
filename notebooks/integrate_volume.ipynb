{
 "cells": [
  {
   "cell_type": "code",
   "execution_count": 6,
   "metadata": {},
   "outputs": [],
   "source": [
    "using EnvelopeApproximation.BubblesIntegration\n",
    "import EnvelopeApproximation.BubblesIntegration.VolumeIntegration as VI"
   ]
  },
  {
   "cell_type": "code",
   "execution_count": 7,
   "metadata": {},
   "outputs": [
    {
     "data": {
      "text/plain": [
       "2-element Vector{Point3}:\n",
       " Point(-0.6299605249474366, 7.714791404660646e-17, 0.0)\n",
       " Point(-0.9085602964160698, 1.1126654588383104e-16, 0.0)"
      ]
     },
     "metadata": {},
     "output_type": "display_data"
    }
   ],
   "source": [
    "VI.unit_ball_points(1. / 6, Float64(2π), 2.)"
   ]
  },
  {
   "cell_type": "code",
   "execution_count": 8,
   "metadata": {},
   "outputs": [
    {
     "data": {
      "text/plain": [
       "Bubbles(Bubble[Bubble(Point(0.0, 0.0, 0.0), 1.0), Bubble(Point(0.0, 0.0, 0.0), 0.5)])"
      ]
     },
     "metadata": {},
     "output_type": "display_data"
    }
   ],
   "source": [
    "bubbles = Bubbles([Point3([0., 0., 0.]), Point3([0., 0., 0.])], [1., 0.5])"
   ]
  },
  {
   "cell_type": "code",
   "execution_count": 9,
   "metadata": {},
   "outputs": [
    {
     "data": {
      "text/plain": [
       "4.188790204786767"
      ]
     },
     "metadata": {},
     "output_type": "display_data"
    }
   ],
   "source": [
    "VI.volume_integral(x -> 1., bubbles, (1. / 3) / 1000, Float64(2π), 2.)"
   ]
  }
 ],
 "metadata": {
  "kernelspec": {
   "display_name": "Julia 1.10.2",
   "language": "julia",
   "name": "julia-1.10"
  },
  "language_info": {
   "file_extension": ".jl",
   "mimetype": "application/julia",
   "name": "julia",
   "version": "1.10.2"
  }
 },
 "nbformat": 4,
 "nbformat_minor": 2
}
