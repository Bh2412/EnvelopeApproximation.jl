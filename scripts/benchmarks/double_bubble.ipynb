{
 "cells": [
  {
   "cell_type": "code",
   "execution_count": 66,
   "metadata": {},
   "outputs": [],
   "source": [
    "using EnvelopeApproximation\n",
    "using EnvelopeApproximation.BubbleBasics\n",
    "using EnvelopeApproximation.GeometricStressEnergyTensor\n",
    "using Plots"
   ]
  },
  {
   "cell_type": "markdown",
   "metadata": {},
   "source": [
    "# Setting up the bubbles"
   ]
  },
  {
   "cell_type": "code",
   "execution_count": null,
   "metadata": {},
   "outputs": [],
   "source": [
    "R = 2.\n",
    "d = 2.4\n",
    "bubbles = Bubbles([Bubble(Point3(0., 0., -d / 2) , R), Bubble(Point3(0., 0., d / 2), R)])\n",
    "bubbles"
   ]
  },
  {
   "cell_type": "markdown",
   "metadata": {},
   "source": [
    "# Setting up the Ks"
   ]
  },
  {
   "cell_type": "code",
   "execution_count": null,
   "metadata": {},
   "outputs": [],
   "source": [
    "k_0 = 2π / (R + d / 2)\n",
    "ks = LinRange(k_0 / 10, k_0 * 10, 1000)\n",
    "k_vecs = (x -> Vec3(0., 0., x)).(ks)\n",
    "norm(p:: Point3) = norm(coordinates(p), 2)"
   ]
  },
  {
   "cell_type": "code",
   "execution_count": null,
   "metadata": {},
   "outputs": [],
   "source": [
    "k_0"
   ]
  },
  {
   "cell_type": "code",
   "execution_count": null,
   "metadata": {},
   "outputs": [],
   "source": [
    "ks"
   ]
  },
  {
   "cell_type": "markdown",
   "metadata": {},
   "source": [
    "# Computing Analytically"
   ]
  },
  {
   "cell_type": "markdown",
   "metadata": {},
   "source": [
    "comparing $$\\tilde{(\\partial_i\\phi\\partial_j\\phi)}(k\\hat{z})$$\n",
    "\n",
    "For different i, j"
   ]
  },
  {
   "cell_type": "code",
   "execution_count": null,
   "metadata": {},
   "outputs": [],
   "source": [
    "ΔV = 1.\n",
    "analytic_ii_integral = @. (4 * ΔV / (3 * ks)) * π * R^2 * sin(R * ks + d * ks / 2)"
   ]
  },
  {
   "cell_type": "code",
   "execution_count": null,
   "metadata": {},
   "outputs": [],
   "source": [
    "plot(ks, analytic_ii_integral)"
   ]
  },
  {
   "cell_type": "markdown",
   "metadata": {},
   "source": [
    "# Computing Numerically"
   ]
  },
  {
   "cell_type": "code",
   "execution_count": null,
   "metadata": {},
   "outputs": [],
   "source": [
    "@time numerical_T = surface_integral(k_vecs, bubbles; ΔV=ΔV, rtol=1e-5)"
   ]
  },
  {
   "cell_type": "code",
   "execution_count": null,
   "metadata": {},
   "outputs": [],
   "source": [
    "numerical_T"
   ]
  },
  {
   "cell_type": "code",
   "execution_count": null,
   "metadata": {},
   "outputs": [],
   "source": [
    "numerical_ii_integral = @views (numerical_T[:, 1] + numerical_T[:, 4] + numerical_T[:, 6]) .|> real"
   ]
  },
  {
   "cell_type": "code",
   "execution_count": null,
   "metadata": {},
   "outputs": [],
   "source": [
    "plot(ks, analytic_ii_integral, label=\"analytic\")\n",
    "plot!(ks, numerical_ii_integral, label=\"numeric\", alpha=0.7)"
   ]
  },
  {
   "cell_type": "markdown",
   "metadata": {},
   "source": [
    "# Comparing z, z component"
   ]
  },
  {
   "cell_type": "code",
   "execution_count": null,
   "metadata": {},
   "outputs": [],
   "source": [
    "ks"
   ]
  },
  {
   "cell_type": "code",
   "execution_count": null,
   "metadata": {},
   "outputs": [],
   "source": [
    "analytic_zz_integral = @. 4π * ΔV / 3 / ks^3 * (d * ks + (2 * ks * R * cos(ks * R) - (2 - ks ^2 * R ^ 2) * sin(ks * R)) * cos(d * ks / 2) - (2 * ks * R * sin(ks * R) + (2 - ks ^ 2 * R ^ 2) * cos(ks * R)) * sin(ks * d / 2))"
   ]
  },
  {
   "cell_type": "code",
   "execution_count": null,
   "metadata": {},
   "outputs": [],
   "source": [
    "numeric_zz_integral = numerical_T |> x -> x[:, 6] |> real"
   ]
  },
  {
   "cell_type": "code",
   "execution_count": null,
   "metadata": {},
   "outputs": [],
   "source": [
    "plot(ks, analytic_zz_integral, label=\"analytic\")\n",
    "plot!(ks, numeric_zz_integral, label=\"numeric\", alpha=0.7)"
   ]
  },
  {
   "cell_type": "code",
   "execution_count": null,
   "metadata": {},
   "outputs": [],
   "source": [
    "plot(ks, analytic_zz_integral - numeric_zz_integral)"
   ]
  },
  {
   "cell_type": "markdown",
   "metadata": {},
   "source": [
    "# comparing xx integral"
   ]
  },
  {
   "cell_type": "code",
   "execution_count": null,
   "metadata": {},
   "outputs": [],
   "source": [
    "analytic_xx_integral = @. -2π * ΔV / (3 * ks ^ 3) * (d * ks + 2 * (ks * R * cos(ks * R) - sin(ks * R)) * cos(d * ks / 2) - 2 * (ks * R * sin(ks * R) + cos(ks * R)) * sin(d * ks / 2))"
   ]
  },
  {
   "cell_type": "code",
   "execution_count": null,
   "metadata": {},
   "outputs": [],
   "source": [
    "numeric_xx_integral = numerical_T |> x -> x[:, 1] |> real"
   ]
  },
  {
   "cell_type": "code",
   "execution_count": null,
   "metadata": {},
   "outputs": [],
   "source": [
    "plot(ks, analytic_xx_integral, label=\"analytic\")\n",
    "plot!(ks, numeric_xx_integral, label=\"numeric\", alpha=0.7)"
   ]
  },
  {
   "cell_type": "code",
   "execution_count": null,
   "metadata": {},
   "outputs": [],
   "source": [
    "plot(ks, numeric_xx_integral - analytic_xx_integral, label=\"analytic\")"
   ]
  },
  {
   "cell_type": "markdown",
   "metadata": {},
   "source": [
    "# Comparing xx and yy"
   ]
  },
  {
   "cell_type": "code",
   "execution_count": null,
   "metadata": {},
   "outputs": [],
   "source": [
    "numeric_yy_integral = numerical_T |> x -> x[:, 4] |> real"
   ]
  },
  {
   "cell_type": "code",
   "execution_count": null,
   "metadata": {},
   "outputs": [],
   "source": [
    "plot(ks, numeric_yy_integral, label=\"yy\")\n",
    "plot!(ks, numeric_xx_integral, label=\"xx\", alpha=0.7)"
   ]
  },
  {
   "cell_type": "code",
   "execution_count": null,
   "metadata": {},
   "outputs": [],
   "source": [
    "plot(ks, numeric_yy_integral - numeric_xx_integral)"
   ]
  },
  {
   "cell_type": "markdown",
   "metadata": {},
   "source": [
    "# Volume Integration"
   ]
  },
  {
   "cell_type": "markdown",
   "metadata": {},
   "source": [
    "## numerical computation"
   ]
  },
  {
   "cell_type": "code",
   "execution_count": null,
   "metadata": {},
   "outputs": [],
   "source": [
    "import EnvelopeApproximation.GeometricStressEnergyTensor: potential_integral\n",
    "ΔV = 1.\n",
    "numeric_integral = potential_integral(k_vecs, bubbles, ΔV=ΔV; rtol=1e-5) .|> real"
   ]
  },
  {
   "cell_type": "markdown",
   "metadata": {},
   "source": [
    "## Analytical computation"
   ]
  },
  {
   "cell_type": "code",
   "execution_count": null,
   "metadata": {},
   "outputs": [],
   "source": [
    "function single_bubble_contribution(k)\n",
    "    return (-ΔV) * 8 * π * cos(k * d / 2) * (sin(k * R) - (k * R) * cos(k * R)) / (k ^ 3)\n",
    "end"
   ]
  },
  {
   "cell_type": "code",
   "execution_count": null,
   "metadata": {},
   "outputs": [],
   "source": [
    "function intersection_contribution(k)\n",
    "    res = (π*d*k - 2*(π*R*k*cos(R*k) - π*sin(R*k))*cos(1/2*d*k) - 2*(π*R*k*sin(R*k) + π*cos(R*k))*sin(1/2*d*k))/k^3\n",
    "    return 2 * (-ΔV) * real(res)\n",
    "end"
   ]
  },
  {
   "cell_type": "code",
   "execution_count": null,
   "metadata": {},
   "outputs": [],
   "source": [
    "analytic_volume_integral = @. single_bubble_contribution(ks) - intersection_contribution(ks)"
   ]
  },
  {
   "cell_type": "markdown",
   "metadata": {},
   "source": [
    "## Comparison"
   ]
  },
  {
   "cell_type": "code",
   "execution_count": null,
   "metadata": {},
   "outputs": [],
   "source": [
    "plot(ks, numeric_integral, label=\"numeric\")\n",
    "plot!(ks, analytic_volume_integral, label=\"analytic\")"
   ]
  },
  {
   "cell_type": "code",
   "execution_count": null,
   "metadata": {},
   "outputs": [],
   "source": [
    "plot(ks, numeric_integral - analytic_volume_integral)"
   ]
  },
  {
   "cell_type": "markdown",
   "metadata": {},
   "source": [
    "# Computing $T_{\\mu\\nu}$ and saving the data"
   ]
  },
  {
   "cell_type": "code",
   "execution_count": 53,
   "metadata": {},
   "outputs": [
    {
     "data": {
      "text/plain": [
       "1000×6 Matrix{ComplexF64}:\n",
       "    19.0714+0.0im          0.0+0.0im  …  0.0+0.0im     12.0146+0.0im\n",
       "    18.8782+0.0im          0.0+0.0im     0.0+0.0im     11.6984+0.0im\n",
       "    18.6683+0.0im          0.0+0.0im     0.0+0.0im     11.3563+0.0im\n",
       "    18.4418+0.0im          0.0+0.0im     0.0+0.0im     10.9893+0.0im\n",
       "    18.1993+0.0im          0.0+0.0im     0.0+0.0im     10.5985+0.0im\n",
       "    17.9411+0.0im          0.0+0.0im  …  0.0+0.0im      10.185+0.0im\n",
       "    17.6677+0.0im          0.0+0.0im     0.0+0.0im     9.75013+0.0im\n",
       "    17.3795+0.0im          0.0+0.0im     0.0+0.0im      9.2951-8.88178e-16im\n",
       "     17.077+0.0im          0.0+0.0im     0.0+0.0im     8.82131+0.0im\n",
       "    16.7608+0.0im          0.0+0.0im     0.0+0.0im     8.33016+0.0im\n",
       "           ⋮                          ⋱                       ⋮\n",
       " -0.0329164-2.22045e-16im  0.0+0.0im     0.0+0.0im    -0.34514-5.55112e-17im\n",
       " -0.0334366-1.38778e-16im  0.0+0.0im     0.0+0.0im   -0.295922+1.94289e-16im\n",
       " -0.0338766-1.94289e-16im  0.0+0.0im     0.0+0.0im   -0.245555+1.11022e-16im\n",
       " -0.0342349-2.77556e-17im  0.0+0.0im     0.0+0.0im   -0.194237+7.77156e-16im\n",
       " -0.0345102-1.66533e-16im  0.0+0.0im  …  0.0+0.0im   -0.142169+2.22045e-16im\n",
       " -0.0347018-1.38778e-16im  0.0+0.0im     0.0+0.0im  -0.0895528-1.66533e-16im\n",
       " -0.0348092-2.498e-16im    0.0+0.0im     0.0+0.0im  -0.0365935-6.66134e-16im\n",
       " -0.0348321-1.66533e-16im  0.0+0.0im     0.0+0.0im   0.0165036+5.55112e-17im\n",
       " -0.0347707-1.94289e-16im  0.0+0.0im     0.0+0.0im   0.0695327+1.66533e-16im"
      ]
     },
     "metadata": {},
     "output_type": "display_data"
    }
   ],
   "source": [
    "numerical_T"
   ]
  },
  {
   "cell_type": "code",
   "execution_count": 54,
   "metadata": {},
   "outputs": [],
   "source": [
    "import EnvelopeApproximation.GeometricStressEnergyTensor: T_ij"
   ]
  },
  {
   "cell_type": "code",
   "execution_count": 55,
   "metadata": {},
   "outputs": [
    {
     "data": {
      "text/plain": [
       "1000-element Vector{Float64}:\n",
       " 76.28580220487154\n",
       " 75.51336155047966\n",
       " 74.67351618731031\n",
       " 73.76772811777195\n",
       " 72.7975711221169\n",
       " 71.76472730305593\n",
       " 70.67098339757541\n",
       " 69.51822686514149\n",
       " 68.30844176202102\n",
       " 67.04370441197136\n",
       "  ⋮\n",
       " -0.13165714006485402\n",
       " -0.13373811722914444\n",
       " -0.13549805347866922\n",
       " -0.13693102151308878\n",
       " -0.13803238057082357\n",
       " -0.13879878920637595\n",
       " -0.13922821301329125\n",
       " -0.13931992728303905\n",
       " -0.13907451460957432"
      ]
     },
     "metadata": {},
     "output_type": "display_data"
    }
   ],
   "source": [
    "numeric_xx_integral - numeric_integral"
   ]
  },
  {
   "cell_type": "code",
   "execution_count": 33,
   "metadata": {},
   "outputs": [
    {
     "data": {
      "text/plain": [
       "Dict{String, Vector{Float64}} with 3 entries:\n",
       "  \"T_zz\" => [69.2292, 68.3337, 67.3617, 66.3154, 65.1969, 64.0088, 62.7536, 61.…\n",
       "  \"T_xx\" => [76.2859, 75.5135, 74.6736, 73.7679, 72.7977, 71.7649, 70.6711, 69.…\n",
       "  \"T_yy\" => [76.2859, 75.5135, 74.6736, 73.7679, 72.7977, 71.7649, 70.6711, 69.…"
      ]
     },
     "metadata": {},
     "output_type": "display_data"
    }
   ],
   "source": [
    "numerical_Tij = Dict(\"T_xx\" => numeric_xx_integral - numeric_integral, \"T_yy\" => numeric_yy_integral - numeric_integral, \"T_zz\" => numeric_zz_integral - numeric_integral)\n",
    "analytic_Tij = Dict(\"T_xx\" => analytic_xx_integral - analytic_volume_integral, \n",
    "                    \"T_yy\" => analytic_xx_integral - analytic_volume_integral, \n",
    "                    \"T_zz\" => analytic_zz_integral - analytic_volume_integral)"
   ]
  },
  {
   "cell_type": "code",
   "execution_count": 34,
   "metadata": {},
   "outputs": [
    {
     "data": {
      "text/plain": [
       "1000-element Vector{Vector{Float64}}:\n",
       " [0.0, 0.0, 0.19634954084936207]\n",
       " [0.0, 0.0, 0.21580760345605562]\n",
       " [0.0, 0.0, 0.23526566606274915]\n",
       " [0.0, 0.0, 0.2547237286694427]\n",
       " [0.0, 0.0, 0.27418179127613623]\n",
       " [0.0, 0.0, 0.29363985388282976]\n",
       " [0.0, 0.0, 0.31309791648952334]\n",
       " [0.0, 0.0, 0.33255597909621687]\n",
       " [0.0, 0.0, 0.3520140417029104]\n",
       " [0.0, 0.0, 0.3714721043096039]\n",
       " ⋮\n",
       " [0.0, 0.0, 19.47928958408266]\n",
       " [0.0, 0.0, 19.498747646689356]\n",
       " [0.0, 0.0, 19.518205709296048]\n",
       " [0.0, 0.0, 19.53766377190274]\n",
       " [0.0, 0.0, 19.557121834509434]\n",
       " [0.0, 0.0, 19.576579897116126]\n",
       " [0.0, 0.0, 19.59603795972282]\n",
       " [0.0, 0.0, 19.615496022329516]\n",
       " [0.0, 0.0, 19.634954084936208]"
      ]
     },
     "metadata": {},
     "output_type": "display_data"
    }
   ],
   "source": [
    "k_vecs .|> collect"
   ]
  },
  {
   "cell_type": "code",
   "execution_count": 35,
   "metadata": {},
   "outputs": [
    {
     "data": {
      "text/plain": [
       "Dict{String, Any} with 6 entries:\n",
       "  \"ks\"           => [[0.0, 0.0, 0.19635], [0.0, 0.0, 0.215808], [0.0, 0.0, 0.23…\n",
       "  \"analytical_T\" => Dict(\"T_zz\"=>[69.2292, 68.3337, 67.3617, 66.3154, 65.1969, …\n",
       "  \"numerical_T\"  => Dict(\"T_zz\"=>[69.229, 68.3335, 67.3616, 66.3152, 65.1968, 6…\n",
       "  \"R\"            => 2.0\n",
       "  \"ΔV\"           => 1.0\n",
       "  \"d\"            => 2.4"
      ]
     },
     "metadata": {},
     "output_type": "display_data"
    }
   ],
   "source": [
    "complete_data = Dict(\"numerical_T\" => numerical_Tij, \n",
    "                     \"analytical_T\" => analytic_Tij, \n",
    "                     \"R\" => R, \n",
    "                     \"d\" => d, \n",
    "                     \"ΔV\" => ΔV, \n",
    "                     \"ks\" => k_vecs .|> collect)"
   ]
  },
  {
   "cell_type": "code",
   "execution_count": 36,
   "metadata": {},
   "outputs": [],
   "source": [
    "using JSON\n",
    "open(\"double_bubble_benchmark_data.json\", \"w\") do f\n",
    "    JSON.print(f, complete_data)\n",
    "end"
   ]
  }
 ],
 "metadata": {
  "kernelspec": {
   "display_name": "Julia 1.11.0",
   "language": "julia",
   "name": "julia-1.11"
  },
  "language_info": {
   "file_extension": ".jl",
   "mimetype": "application/julia",
   "name": "julia",
   "version": "1.11.0"
  }
 },
 "nbformat": 4,
 "nbformat_minor": 2
}
