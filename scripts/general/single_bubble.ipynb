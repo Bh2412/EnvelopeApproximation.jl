{
 "cells": [
  {
   "cell_type": "code",
   "execution_count": 7,
   "metadata": {},
   "outputs": [],
   "source": [
    "using EnvelopeApproximation\n",
    "using EnvelopeApproximation.BubbleBasics\n",
    "using EnvelopeApproximation.StressEnergyTensor\n",
    "import LinearAlgebra: norm\n",
    "using Plots\n",
    "\n"
   ]
  },
  {
   "cell_type": "markdown",
   "metadata": {},
   "source": [
    "# Setting up the bubbles"
   ]
  },
  {
   "cell_type": "code",
   "execution_count": null,
   "metadata": {},
   "outputs": [],
   "source": [
    "R = 2.\n",
    "c = Point3(0., 0., 3.)\n",
    "bubbles = Bubbles([Bubble(c, R)])"
   ]
  },
  {
   "cell_type": "markdown",
   "metadata": {},
   "source": [
    "# Setting up the Ks"
   ]
  },
  {
   "cell_type": "code",
   "execution_count": null,
   "metadata": {},
   "outputs": [],
   "source": [
    "k_0 = 2π / R\n",
    "ks = LinRange(k_0 / 10, k_0 * 10, 1000)\n",
    "kvecs = (x -> Vec3(0., 0., x)).(ks)\n"
   ]
  },
  {
   "cell_type": "markdown",
   "metadata": {},
   "source": [
    "# Computing Analytically"
   ]
  },
  {
   "cell_type": "code",
   "execution_count": null,
   "metadata": {},
   "outputs": [],
   "source": [
    "ΔV = 1.\n",
    "analytic_T_ii = @. (cos(kvecs ⋅ (c.coordinates, ))) * ((ΔV * 4π / 3) * (R ^ 3)) * sin(ks * R) / (ks * R)  \n",
    "plot(ks, analytic_T_ii .|> real)"
   ]
  },
  {
   "cell_type": "markdown",
   "metadata": {},
   "source": [
    "# Computing Numerically"
   ]
  },
  {
   "cell_type": "code",
   "execution_count": null,
   "metadata": {},
   "outputs": [],
   "source": [
    "import EnvelopeApproximation.StressEnergyTensorFFT: TensorDirection, surface_integral, SphericalXX, SphericalYY, SphericalZZ, SphericalTrace\n",
    "tensor_directions = (SphericalTrace(), SphericalXX(), SphericalYY(), SphericalZZ())\n",
    "n = 10\n",
    "@time numerical_T = surface_integral(ks, 0.:0., 0.:0., 100, bubbles, tensor_directions, 10, 10, ΔV)[:, 1, 1, :]"
   ]
  },
  {
   "cell_type": "code",
   "execution_count": null,
   "metadata": {},
   "outputs": [],
   "source": [
    "\n",
    "numerical_ii_integral = numerical_T |> x -> x[:, 1] |> real"
   ]
  },
  {
   "cell_type": "code",
   "execution_count": null,
   "metadata": {},
   "outputs": [],
   "source": [
    "plot(ks, analytic_T_ii, label=\"analytic\")\n",
    "plot!(ks, numerical_ii_integral, label=\"numeric\", alpha=0.7)"
   ]
  },
  {
   "cell_type": "code",
   "execution_count": null,
   "metadata": {},
   "outputs": [],
   "source": [
    "plot(ks, numerical_ii_integral - analytic_T_ii)"
   ]
  },
  {
   "cell_type": "markdown",
   "metadata": {},
   "source": [
    "# Study Degree of Realness "
   ]
  },
  {
   "cell_type": "code",
   "execution_count": null,
   "metadata": {},
   "outputs": [],
   "source": [
    "plot(ks, numerical_ii_integral .|> imag)"
   ]
  },
  {
   "cell_type": "markdown",
   "metadata": {},
   "source": [
    "# Study tensor directions"
   ]
  },
  {
   "cell_type": "code",
   "execution_count": null,
   "metadata": {},
   "outputs": [],
   "source": [
    "ks"
   ]
  },
  {
   "cell_type": "code",
   "execution_count": null,
   "metadata": {},
   "outputs": [],
   "source": [
    "analytical_T_xx = @. cos(kvecs ⋅ (c.coordinates, )) * 4π / 3 * ΔV  / (ks ^ 3) * (sin(ks * R) - (ks * R) * cos(ks * R))"
   ]
  },
  {
   "cell_type": "code",
   "execution_count": null,
   "metadata": {},
   "outputs": [],
   "source": [
    "plot(ks, numerical_T[:, 2] .|> real, label=\"(:x, :x)\")\n",
    "plot!(ks, numerical_T[:, 3] .|> real, label=\"(:y, :y)\", alpha=0.5)\n",
    "plot!(ks, analytical_T_xx .|> real, label=\"analytic\", alpha = 0.5)"
   ]
  },
  {
   "cell_type": "code",
   "execution_count": null,
   "metadata": {},
   "outputs": [],
   "source": [
    "plot(ks, (numerical_T[:, 2] .|> real) - (numerical_T[:, 3] .|> real), label=\"difference\")\n"
   ]
  },
  {
   "cell_type": "markdown",
   "metadata": {},
   "source": [
    "## Z, Z"
   ]
  },
  {
   "cell_type": "code",
   "execution_count": null,
   "metadata": {},
   "outputs": [],
   "source": [
    "analytic_zz_integral = @. (cos(kvecs ⋅ (c.coordinates, ))) * (4π / 3 * ΔV * (1 / (ks ^ 3)) * (2 * ks * R * cos(ks * R) + (R^2 * ks^2 - 2) * sin(ks * R)))"
   ]
  },
  {
   "cell_type": "code",
   "execution_count": null,
   "metadata": {},
   "outputs": [],
   "source": [
    "plot(ks, analytic_zz_integral)"
   ]
  },
  {
   "cell_type": "code",
   "execution_count": null,
   "metadata": {},
   "outputs": [],
   "source": [
    "numerical_zz_integral = numerical_T[:, 4] |> real"
   ]
  },
  {
   "cell_type": "code",
   "execution_count": null,
   "metadata": {},
   "outputs": [],
   "source": [
    "plot(ks, analytic_zz_integral, label=\"analytic\")\n",
    "plot!(ks, numerical_zz_integral, label=\"numeric\")"
   ]
  },
  {
   "cell_type": "code",
   "execution_count": null,
   "metadata": {},
   "outputs": [],
   "source": [
    "plot(ks, (analytic_zz_integral - numerical_zz_integral))"
   ]
  }
 ],
 "metadata": {
  "kernelspec": {
   "display_name": "Julia 1.10.5",
   "language": "julia",
   "name": "julia-1.10"
  },
  "language_info": {
   "file_extension": ".jl",
   "mimetype": "application/julia",
   "name": "julia",
   "version": "1.10.5"
  }
 },
 "nbformat": 4,
 "nbformat_minor": 2
}
